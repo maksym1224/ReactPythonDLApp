{
 "cells": [
  {
   "cell_type": "markdown",
   "metadata": {},
   "source": [
    "# Deep Learning Handwriting Recognition: Developing the Model\n",
    "\n",
    "## Introduction\n",
    "\n",
    "The pre-trained model, `model.h5`, inside this web app is responsible for predicting handwriting. \n",
    "\n",
    "This Jupyter Notebook discusses how the `model.h5` file was created.\n",
    "\n",
    "## Guidelines\n",
    "\n",
    "In order to create a model to predict handwriting, we will need to go through the following guidelines:\n",
    "\n",
    "### Creating the Training and Testing Dataset\n",
    "1. Acquire the outside dataset (with the necessary preparations)\n",
    "2. Create the training and test dataset\n",
    "    * Along with the complementing \"answer key\"\n",
    "3. Prepare these datasets for the ML algorithm\n",
    "\n",
    "### Creating The Model\n",
    "4. Generate multiple permutations of models to find which parameters work the best \n",
    "    * I have chosen these permutations to be: 1) number of dense layers, 2) number of neurons of each layer, 3) number of convolutional layers\n",
    "    * `dropout` should also be considered to prevent overfitting\n",
    "5. Tweak any parameters if need be\n",
    "6. Choose a model to go inside of our web app"
   ]
  },
  {
   "cell_type": "markdown",
   "metadata": {},
   "source": [
    "## Creating the Training and Testing Dataset\n",
    "\n",
    "### 1. Acquire the outside dataset\n",
    "\n",
    "We will begin by initializing all of our imports, along with the chosen dataset. The dataset chosen comes from [EMNIST](https://www.kaggle.com/crawford/emnist) on Kaggle.\n",
    "\n",
    "I have downloaded this dataset into the directory found inside the `DATADIR` variable. If you wish to run this python code locally, change the directory to the location of your downloaded EMNIST."
   ]
  },
  {
   "cell_type": "code",
   "execution_count": 12,
   "metadata": {},
   "outputs": [],
   "source": [
    "import tensorflow as tf\n",
    "import pandas as pd\n",
    "import numpy as np\n",
    "import matplotlib.pyplot as plt\n",
    "import os\n",
    "\n",
    "#keras\n",
    "from tensorflow.keras.models import Sequential\n",
    "from tensorflow.keras.layers import Dense, Dropout, Flatten\n",
    "from tensorflow.keras.layers import Conv2D, MaxPooling2D\n",
    "from tensorflow.keras import utils\n",
    "# import sklearn.metrics as metrics\n",
    "\n",
    "DATADIR = \"/Users/michaelmccabe/Desktop/Applications/Datasets/emnist\" # The location of my Kaggle EMNIST dataset"
   ]
  },
  {
   "cell_type": "markdown",
   "metadata": {},
   "source": [
    "A dataframe called `train` is created to hold the `'emnist-balanced-train.csv'` file.\n",
    "\n",
    "This CSV file has no headers. We do not want the first image data to be the \"header\", we want the first row to be part of the data: `header=None`"
   ]
  },
  {
   "cell_type": "code",
   "execution_count": 13,
   "metadata": {},
   "outputs": [],
   "source": [
    "train = pd.read_csv(os.path.join(DATADIR, 'emnist-balanced-train.csv'), header=None)"
   ]
  },
  {
   "cell_type": "markdown",
   "metadata": {},
   "source": [
    "Let's take a look at this `train` dataframe"
   ]
  },
  {
   "cell_type": "code",
   "execution_count": 14,
   "metadata": {},
   "outputs": [
    {
     "data": {
      "text/html": [
       "<div>\n",
       "<style scoped>\n",
       "    .dataframe tbody tr th:only-of-type {\n",
       "        vertical-align: middle;\n",
       "    }\n",
       "\n",
       "    .dataframe tbody tr th {\n",
       "        vertical-align: top;\n",
       "    }\n",
       "\n",
       "    .dataframe thead th {\n",
       "        text-align: right;\n",
       "    }\n",
       "</style>\n",
       "<table border=\"1\" class=\"dataframe\">\n",
       "  <thead>\n",
       "    <tr style=\"text-align: right;\">\n",
       "      <th></th>\n",
       "      <th>0</th>\n",
       "      <th>1</th>\n",
       "      <th>2</th>\n",
       "      <th>3</th>\n",
       "      <th>4</th>\n",
       "      <th>5</th>\n",
       "      <th>6</th>\n",
       "      <th>7</th>\n",
       "      <th>8</th>\n",
       "      <th>9</th>\n",
       "      <th>...</th>\n",
       "      <th>775</th>\n",
       "      <th>776</th>\n",
       "      <th>777</th>\n",
       "      <th>778</th>\n",
       "      <th>779</th>\n",
       "      <th>780</th>\n",
       "      <th>781</th>\n",
       "      <th>782</th>\n",
       "      <th>783</th>\n",
       "      <th>784</th>\n",
       "    </tr>\n",
       "  </thead>\n",
       "  <tbody>\n",
       "    <tr>\n",
       "      <th>0</th>\n",
       "      <td>45</td>\n",
       "      <td>0</td>\n",
       "      <td>0</td>\n",
       "      <td>0</td>\n",
       "      <td>0</td>\n",
       "      <td>0</td>\n",
       "      <td>0</td>\n",
       "      <td>0</td>\n",
       "      <td>0</td>\n",
       "      <td>0</td>\n",
       "      <td>...</td>\n",
       "      <td>0</td>\n",
       "      <td>0</td>\n",
       "      <td>0</td>\n",
       "      <td>0</td>\n",
       "      <td>0</td>\n",
       "      <td>0</td>\n",
       "      <td>0</td>\n",
       "      <td>0</td>\n",
       "      <td>0</td>\n",
       "      <td>0</td>\n",
       "    </tr>\n",
       "    <tr>\n",
       "      <th>1</th>\n",
       "      <td>36</td>\n",
       "      <td>0</td>\n",
       "      <td>0</td>\n",
       "      <td>0</td>\n",
       "      <td>0</td>\n",
       "      <td>0</td>\n",
       "      <td>0</td>\n",
       "      <td>0</td>\n",
       "      <td>0</td>\n",
       "      <td>0</td>\n",
       "      <td>...</td>\n",
       "      <td>0</td>\n",
       "      <td>0</td>\n",
       "      <td>0</td>\n",
       "      <td>0</td>\n",
       "      <td>0</td>\n",
       "      <td>0</td>\n",
       "      <td>0</td>\n",
       "      <td>0</td>\n",
       "      <td>0</td>\n",
       "      <td>0</td>\n",
       "    </tr>\n",
       "    <tr>\n",
       "      <th>2</th>\n",
       "      <td>43</td>\n",
       "      <td>0</td>\n",
       "      <td>0</td>\n",
       "      <td>0</td>\n",
       "      <td>0</td>\n",
       "      <td>0</td>\n",
       "      <td>0</td>\n",
       "      <td>0</td>\n",
       "      <td>0</td>\n",
       "      <td>0</td>\n",
       "      <td>...</td>\n",
       "      <td>0</td>\n",
       "      <td>0</td>\n",
       "      <td>0</td>\n",
       "      <td>0</td>\n",
       "      <td>0</td>\n",
       "      <td>0</td>\n",
       "      <td>0</td>\n",
       "      <td>0</td>\n",
       "      <td>0</td>\n",
       "      <td>0</td>\n",
       "    </tr>\n",
       "    <tr>\n",
       "      <th>3</th>\n",
       "      <td>15</td>\n",
       "      <td>0</td>\n",
       "      <td>0</td>\n",
       "      <td>0</td>\n",
       "      <td>0</td>\n",
       "      <td>0</td>\n",
       "      <td>0</td>\n",
       "      <td>0</td>\n",
       "      <td>0</td>\n",
       "      <td>0</td>\n",
       "      <td>...</td>\n",
       "      <td>0</td>\n",
       "      <td>0</td>\n",
       "      <td>0</td>\n",
       "      <td>0</td>\n",
       "      <td>0</td>\n",
       "      <td>0</td>\n",
       "      <td>0</td>\n",
       "      <td>0</td>\n",
       "      <td>0</td>\n",
       "      <td>0</td>\n",
       "    </tr>\n",
       "    <tr>\n",
       "      <th>4</th>\n",
       "      <td>4</td>\n",
       "      <td>0</td>\n",
       "      <td>0</td>\n",
       "      <td>0</td>\n",
       "      <td>0</td>\n",
       "      <td>0</td>\n",
       "      <td>0</td>\n",
       "      <td>0</td>\n",
       "      <td>0</td>\n",
       "      <td>0</td>\n",
       "      <td>...</td>\n",
       "      <td>0</td>\n",
       "      <td>0</td>\n",
       "      <td>0</td>\n",
       "      <td>0</td>\n",
       "      <td>0</td>\n",
       "      <td>0</td>\n",
       "      <td>0</td>\n",
       "      <td>0</td>\n",
       "      <td>0</td>\n",
       "      <td>0</td>\n",
       "    </tr>\n",
       "    <tr>\n",
       "      <th>5</th>\n",
       "      <td>42</td>\n",
       "      <td>0</td>\n",
       "      <td>0</td>\n",
       "      <td>0</td>\n",
       "      <td>0</td>\n",
       "      <td>0</td>\n",
       "      <td>0</td>\n",
       "      <td>0</td>\n",
       "      <td>0</td>\n",
       "      <td>0</td>\n",
       "      <td>...</td>\n",
       "      <td>0</td>\n",
       "      <td>0</td>\n",
       "      <td>0</td>\n",
       "      <td>0</td>\n",
       "      <td>0</td>\n",
       "      <td>0</td>\n",
       "      <td>0</td>\n",
       "      <td>0</td>\n",
       "      <td>0</td>\n",
       "      <td>0</td>\n",
       "    </tr>\n",
       "    <tr>\n",
       "      <th>6</th>\n",
       "      <td>26</td>\n",
       "      <td>0</td>\n",
       "      <td>0</td>\n",
       "      <td>0</td>\n",
       "      <td>0</td>\n",
       "      <td>0</td>\n",
       "      <td>0</td>\n",
       "      <td>0</td>\n",
       "      <td>0</td>\n",
       "      <td>0</td>\n",
       "      <td>...</td>\n",
       "      <td>0</td>\n",
       "      <td>0</td>\n",
       "      <td>0</td>\n",
       "      <td>0</td>\n",
       "      <td>0</td>\n",
       "      <td>0</td>\n",
       "      <td>0</td>\n",
       "      <td>0</td>\n",
       "      <td>0</td>\n",
       "      <td>0</td>\n",
       "    </tr>\n",
       "    <tr>\n",
       "      <th>7</th>\n",
       "      <td>32</td>\n",
       "      <td>0</td>\n",
       "      <td>0</td>\n",
       "      <td>0</td>\n",
       "      <td>0</td>\n",
       "      <td>0</td>\n",
       "      <td>0</td>\n",
       "      <td>0</td>\n",
       "      <td>0</td>\n",
       "      <td>0</td>\n",
       "      <td>...</td>\n",
       "      <td>0</td>\n",
       "      <td>0</td>\n",
       "      <td>0</td>\n",
       "      <td>0</td>\n",
       "      <td>0</td>\n",
       "      <td>0</td>\n",
       "      <td>0</td>\n",
       "      <td>0</td>\n",
       "      <td>0</td>\n",
       "      <td>0</td>\n",
       "    </tr>\n",
       "    <tr>\n",
       "      <th>8</th>\n",
       "      <td>20</td>\n",
       "      <td>0</td>\n",
       "      <td>0</td>\n",
       "      <td>0</td>\n",
       "      <td>0</td>\n",
       "      <td>0</td>\n",
       "      <td>0</td>\n",
       "      <td>0</td>\n",
       "      <td>0</td>\n",
       "      <td>0</td>\n",
       "      <td>...</td>\n",
       "      <td>0</td>\n",
       "      <td>0</td>\n",
       "      <td>0</td>\n",
       "      <td>0</td>\n",
       "      <td>0</td>\n",
       "      <td>0</td>\n",
       "      <td>0</td>\n",
       "      <td>0</td>\n",
       "      <td>0</td>\n",
       "      <td>0</td>\n",
       "    </tr>\n",
       "    <tr>\n",
       "      <th>9</th>\n",
       "      <td>1</td>\n",
       "      <td>0</td>\n",
       "      <td>0</td>\n",
       "      <td>0</td>\n",
       "      <td>0</td>\n",
       "      <td>0</td>\n",
       "      <td>0</td>\n",
       "      <td>0</td>\n",
       "      <td>0</td>\n",
       "      <td>0</td>\n",
       "      <td>...</td>\n",
       "      <td>0</td>\n",
       "      <td>0</td>\n",
       "      <td>0</td>\n",
       "      <td>0</td>\n",
       "      <td>0</td>\n",
       "      <td>0</td>\n",
       "      <td>0</td>\n",
       "      <td>0</td>\n",
       "      <td>0</td>\n",
       "      <td>0</td>\n",
       "    </tr>\n",
       "  </tbody>\n",
       "</table>\n",
       "<p>10 rows × 785 columns</p>\n",
       "</div>"
      ],
      "text/plain": [
       "   0    1    2    3    4    5    6    7    8    9    ...  775  776  777  778  \\\n",
       "0   45    0    0    0    0    0    0    0    0    0  ...    0    0    0    0   \n",
       "1   36    0    0    0    0    0    0    0    0    0  ...    0    0    0    0   \n",
       "2   43    0    0    0    0    0    0    0    0    0  ...    0    0    0    0   \n",
       "3   15    0    0    0    0    0    0    0    0    0  ...    0    0    0    0   \n",
       "4    4    0    0    0    0    0    0    0    0    0  ...    0    0    0    0   \n",
       "5   42    0    0    0    0    0    0    0    0    0  ...    0    0    0    0   \n",
       "6   26    0    0    0    0    0    0    0    0    0  ...    0    0    0    0   \n",
       "7   32    0    0    0    0    0    0    0    0    0  ...    0    0    0    0   \n",
       "8   20    0    0    0    0    0    0    0    0    0  ...    0    0    0    0   \n",
       "9    1    0    0    0    0    0    0    0    0    0  ...    0    0    0    0   \n",
       "\n",
       "   779  780  781  782  783  784  \n",
       "0    0    0    0    0    0    0  \n",
       "1    0    0    0    0    0    0  \n",
       "2    0    0    0    0    0    0  \n",
       "3    0    0    0    0    0    0  \n",
       "4    0    0    0    0    0    0  \n",
       "5    0    0    0    0    0    0  \n",
       "6    0    0    0    0    0    0  \n",
       "7    0    0    0    0    0    0  \n",
       "8    0    0    0    0    0    0  \n",
       "9    0    0    0    0    0    0  \n",
       "\n",
       "[10 rows x 785 columns]"
      ]
     },
     "execution_count": 14,
     "metadata": {},
     "output_type": "execute_result"
    }
   ],
   "source": [
    "train.head(10)"
   ]
  },
  {
   "cell_type": "markdown",
   "metadata": {},
   "source": [
    "A dataframe called `test` is created to hold the `emnist-balanced-test.csv` file.\n",
    "\n",
    "We will perform the same operations."
   ]
  },
  {
   "cell_type": "code",
   "execution_count": 15,
   "metadata": {},
   "outputs": [],
   "source": [
    "test = pd.read_csv(os.path.join(DATADIR, 'emnist-balanced-test.csv'), header=None)"
   ]
  },
  {
   "cell_type": "code",
   "execution_count": 16,
   "metadata": {
    "scrolled": true
   },
   "outputs": [
    {
     "data": {
      "text/html": [
       "<div>\n",
       "<style scoped>\n",
       "    .dataframe tbody tr th:only-of-type {\n",
       "        vertical-align: middle;\n",
       "    }\n",
       "\n",
       "    .dataframe tbody tr th {\n",
       "        vertical-align: top;\n",
       "    }\n",
       "\n",
       "    .dataframe thead th {\n",
       "        text-align: right;\n",
       "    }\n",
       "</style>\n",
       "<table border=\"1\" class=\"dataframe\">\n",
       "  <thead>\n",
       "    <tr style=\"text-align: right;\">\n",
       "      <th></th>\n",
       "      <th>0</th>\n",
       "      <th>1</th>\n",
       "      <th>2</th>\n",
       "      <th>3</th>\n",
       "      <th>4</th>\n",
       "      <th>5</th>\n",
       "      <th>6</th>\n",
       "      <th>7</th>\n",
       "      <th>8</th>\n",
       "      <th>9</th>\n",
       "      <th>...</th>\n",
       "      <th>775</th>\n",
       "      <th>776</th>\n",
       "      <th>777</th>\n",
       "      <th>778</th>\n",
       "      <th>779</th>\n",
       "      <th>780</th>\n",
       "      <th>781</th>\n",
       "      <th>782</th>\n",
       "      <th>783</th>\n",
       "      <th>784</th>\n",
       "    </tr>\n",
       "  </thead>\n",
       "  <tbody>\n",
       "    <tr>\n",
       "      <th>0</th>\n",
       "      <td>41</td>\n",
       "      <td>0</td>\n",
       "      <td>0</td>\n",
       "      <td>0</td>\n",
       "      <td>0</td>\n",
       "      <td>0</td>\n",
       "      <td>0</td>\n",
       "      <td>0</td>\n",
       "      <td>0</td>\n",
       "      <td>0</td>\n",
       "      <td>...</td>\n",
       "      <td>0</td>\n",
       "      <td>0</td>\n",
       "      <td>0</td>\n",
       "      <td>0</td>\n",
       "      <td>0</td>\n",
       "      <td>0</td>\n",
       "      <td>0</td>\n",
       "      <td>0</td>\n",
       "      <td>0</td>\n",
       "      <td>0</td>\n",
       "    </tr>\n",
       "    <tr>\n",
       "      <th>1</th>\n",
       "      <td>39</td>\n",
       "      <td>0</td>\n",
       "      <td>0</td>\n",
       "      <td>0</td>\n",
       "      <td>0</td>\n",
       "      <td>0</td>\n",
       "      <td>0</td>\n",
       "      <td>0</td>\n",
       "      <td>0</td>\n",
       "      <td>0</td>\n",
       "      <td>...</td>\n",
       "      <td>0</td>\n",
       "      <td>0</td>\n",
       "      <td>0</td>\n",
       "      <td>0</td>\n",
       "      <td>0</td>\n",
       "      <td>0</td>\n",
       "      <td>0</td>\n",
       "      <td>0</td>\n",
       "      <td>0</td>\n",
       "      <td>0</td>\n",
       "    </tr>\n",
       "    <tr>\n",
       "      <th>2</th>\n",
       "      <td>9</td>\n",
       "      <td>0</td>\n",
       "      <td>0</td>\n",
       "      <td>0</td>\n",
       "      <td>0</td>\n",
       "      <td>0</td>\n",
       "      <td>0</td>\n",
       "      <td>0</td>\n",
       "      <td>0</td>\n",
       "      <td>0</td>\n",
       "      <td>...</td>\n",
       "      <td>0</td>\n",
       "      <td>0</td>\n",
       "      <td>0</td>\n",
       "      <td>0</td>\n",
       "      <td>0</td>\n",
       "      <td>0</td>\n",
       "      <td>0</td>\n",
       "      <td>0</td>\n",
       "      <td>0</td>\n",
       "      <td>0</td>\n",
       "    </tr>\n",
       "    <tr>\n",
       "      <th>3</th>\n",
       "      <td>26</td>\n",
       "      <td>0</td>\n",
       "      <td>0</td>\n",
       "      <td>0</td>\n",
       "      <td>0</td>\n",
       "      <td>0</td>\n",
       "      <td>0</td>\n",
       "      <td>0</td>\n",
       "      <td>0</td>\n",
       "      <td>0</td>\n",
       "      <td>...</td>\n",
       "      <td>0</td>\n",
       "      <td>0</td>\n",
       "      <td>0</td>\n",
       "      <td>0</td>\n",
       "      <td>0</td>\n",
       "      <td>0</td>\n",
       "      <td>0</td>\n",
       "      <td>0</td>\n",
       "      <td>0</td>\n",
       "      <td>0</td>\n",
       "    </tr>\n",
       "    <tr>\n",
       "      <th>4</th>\n",
       "      <td>44</td>\n",
       "      <td>0</td>\n",
       "      <td>0</td>\n",
       "      <td>0</td>\n",
       "      <td>0</td>\n",
       "      <td>0</td>\n",
       "      <td>0</td>\n",
       "      <td>0</td>\n",
       "      <td>0</td>\n",
       "      <td>0</td>\n",
       "      <td>...</td>\n",
       "      <td>0</td>\n",
       "      <td>0</td>\n",
       "      <td>0</td>\n",
       "      <td>0</td>\n",
       "      <td>0</td>\n",
       "      <td>0</td>\n",
       "      <td>0</td>\n",
       "      <td>0</td>\n",
       "      <td>0</td>\n",
       "      <td>0</td>\n",
       "    </tr>\n",
       "    <tr>\n",
       "      <th>5</th>\n",
       "      <td>33</td>\n",
       "      <td>0</td>\n",
       "      <td>0</td>\n",
       "      <td>0</td>\n",
       "      <td>0</td>\n",
       "      <td>0</td>\n",
       "      <td>0</td>\n",
       "      <td>0</td>\n",
       "      <td>0</td>\n",
       "      <td>0</td>\n",
       "      <td>...</td>\n",
       "      <td>0</td>\n",
       "      <td>0</td>\n",
       "      <td>0</td>\n",
       "      <td>0</td>\n",
       "      <td>0</td>\n",
       "      <td>0</td>\n",
       "      <td>0</td>\n",
       "      <td>0</td>\n",
       "      <td>0</td>\n",
       "      <td>0</td>\n",
       "    </tr>\n",
       "    <tr>\n",
       "      <th>6</th>\n",
       "      <td>14</td>\n",
       "      <td>0</td>\n",
       "      <td>0</td>\n",
       "      <td>0</td>\n",
       "      <td>0</td>\n",
       "      <td>0</td>\n",
       "      <td>0</td>\n",
       "      <td>0</td>\n",
       "      <td>0</td>\n",
       "      <td>0</td>\n",
       "      <td>...</td>\n",
       "      <td>0</td>\n",
       "      <td>0</td>\n",
       "      <td>0</td>\n",
       "      <td>0</td>\n",
       "      <td>0</td>\n",
       "      <td>0</td>\n",
       "      <td>0</td>\n",
       "      <td>0</td>\n",
       "      <td>0</td>\n",
       "      <td>0</td>\n",
       "    </tr>\n",
       "    <tr>\n",
       "      <th>7</th>\n",
       "      <td>11</td>\n",
       "      <td>0</td>\n",
       "      <td>0</td>\n",
       "      <td>0</td>\n",
       "      <td>0</td>\n",
       "      <td>0</td>\n",
       "      <td>0</td>\n",
       "      <td>0</td>\n",
       "      <td>0</td>\n",
       "      <td>0</td>\n",
       "      <td>...</td>\n",
       "      <td>0</td>\n",
       "      <td>0</td>\n",
       "      <td>0</td>\n",
       "      <td>0</td>\n",
       "      <td>0</td>\n",
       "      <td>0</td>\n",
       "      <td>0</td>\n",
       "      <td>0</td>\n",
       "      <td>0</td>\n",
       "      <td>0</td>\n",
       "    </tr>\n",
       "    <tr>\n",
       "      <th>8</th>\n",
       "      <td>3</td>\n",
       "      <td>0</td>\n",
       "      <td>0</td>\n",
       "      <td>0</td>\n",
       "      <td>0</td>\n",
       "      <td>0</td>\n",
       "      <td>0</td>\n",
       "      <td>0</td>\n",
       "      <td>0</td>\n",
       "      <td>0</td>\n",
       "      <td>...</td>\n",
       "      <td>0</td>\n",
       "      <td>0</td>\n",
       "      <td>0</td>\n",
       "      <td>0</td>\n",
       "      <td>0</td>\n",
       "      <td>0</td>\n",
       "      <td>0</td>\n",
       "      <td>0</td>\n",
       "      <td>0</td>\n",
       "      <td>0</td>\n",
       "    </tr>\n",
       "    <tr>\n",
       "      <th>9</th>\n",
       "      <td>12</td>\n",
       "      <td>0</td>\n",
       "      <td>0</td>\n",
       "      <td>0</td>\n",
       "      <td>0</td>\n",
       "      <td>0</td>\n",
       "      <td>0</td>\n",
       "      <td>0</td>\n",
       "      <td>0</td>\n",
       "      <td>0</td>\n",
       "      <td>...</td>\n",
       "      <td>0</td>\n",
       "      <td>0</td>\n",
       "      <td>0</td>\n",
       "      <td>0</td>\n",
       "      <td>0</td>\n",
       "      <td>0</td>\n",
       "      <td>0</td>\n",
       "      <td>0</td>\n",
       "      <td>0</td>\n",
       "      <td>0</td>\n",
       "    </tr>\n",
       "  </tbody>\n",
       "</table>\n",
       "<p>10 rows × 785 columns</p>\n",
       "</div>"
      ],
      "text/plain": [
       "   0    1    2    3    4    5    6    7    8    9    ...  775  776  777  778  \\\n",
       "0   41    0    0    0    0    0    0    0    0    0  ...    0    0    0    0   \n",
       "1   39    0    0    0    0    0    0    0    0    0  ...    0    0    0    0   \n",
       "2    9    0    0    0    0    0    0    0    0    0  ...    0    0    0    0   \n",
       "3   26    0    0    0    0    0    0    0    0    0  ...    0    0    0    0   \n",
       "4   44    0    0    0    0    0    0    0    0    0  ...    0    0    0    0   \n",
       "5   33    0    0    0    0    0    0    0    0    0  ...    0    0    0    0   \n",
       "6   14    0    0    0    0    0    0    0    0    0  ...    0    0    0    0   \n",
       "7   11    0    0    0    0    0    0    0    0    0  ...    0    0    0    0   \n",
       "8    3    0    0    0    0    0    0    0    0    0  ...    0    0    0    0   \n",
       "9   12    0    0    0    0    0    0    0    0    0  ...    0    0    0    0   \n",
       "\n",
       "   779  780  781  782  783  784  \n",
       "0    0    0    0    0    0    0  \n",
       "1    0    0    0    0    0    0  \n",
       "2    0    0    0    0    0    0  \n",
       "3    0    0    0    0    0    0  \n",
       "4    0    0    0    0    0    0  \n",
       "5    0    0    0    0    0    0  \n",
       "6    0    0    0    0    0    0  \n",
       "7    0    0    0    0    0    0  \n",
       "8    0    0    0    0    0    0  \n",
       "9    0    0    0    0    0    0  \n",
       "\n",
       "[10 rows x 785 columns]"
      ]
     },
     "execution_count": 16,
     "metadata": {},
     "output_type": "execute_result"
    }
   ],
   "source": [
    "test.head(10)"
   ]
  },
  {
   "cell_type": "markdown",
   "metadata": {},
   "source": [
    "A dataframe called `mapp` is created to hold the `emnist-balanced-mapping.txt` file. This mapping file is structured where the first column is simply the index, and the 2nd column is the character code.\n",
    "\n",
    "Examples: char `48` is `0`, char `65` is `A`, chr `116` is `t`\n",
    "\n",
    "`mapp` Dataframe Parameters:\n",
    "* The txt file is seperated by spaces: `delimiter = ' '`\n",
    "* The txt file has no headers: `header=None`\n",
    "* We do not need the 1st column of data, we want the 2nd column as the only column in our `mapp` dataframe: `usecols=[1]`\n",
    "* Because the data is only one column, we can use `squeeze=True` to return a series and use array methods on it\n"
   ]
  },
  {
   "cell_type": "code",
   "execution_count": 17,
   "metadata": {},
   "outputs": [
    {
     "data": {
      "text/plain": [
       "0     48\n",
       "1     49\n",
       "2     50\n",
       "3     51\n",
       "4     52\n",
       "5     53\n",
       "6     54\n",
       "7     55\n",
       "8     56\n",
       "9     57\n",
       "10    65\n",
       "11    66\n",
       "Name: 1, dtype: int64"
      ]
     },
     "execution_count": 17,
     "metadata": {},
     "output_type": "execute_result"
    }
   ],
   "source": [
    "mapp = pd.read_csv(\"/Users/michaelmccabe/Desktop/Applications/Datasets/emnist/emnist-balanced-mapping.txt\"\n",
    "                       , delimiter = ' ', header=None, usecols=[1], squeeze=True)\n",
    "mapp.head(12)"
   ]
  },
  {
   "cell_type": "code",
   "execution_count": 18,
   "metadata": {},
   "outputs": [
    {
     "name": "stdout",
     "output_type": "stream",
     "text": [
      "char code of index 46 is 116\n",
      "t\n"
     ]
    }
   ],
   "source": [
    "# testing out the charcodes\n",
    "print(\"char code of index 46 is\", mapp[46])\n",
    "print(chr(mapp[46]))"
   ]
  },
  {
   "cell_type": "markdown",
   "metadata": {},
   "source": [
    "The variable `class_mapping` is created to map indices with the actual character associated with it"
   ]
  },
  {
   "cell_type": "code",
   "execution_count": 19,
   "metadata": {},
   "outputs": [],
   "source": [
    "class_mapping = []\n",
    "\n",
    "for num in range(len(mapp)):\n",
    "    class_mapping.append(chr(mapp[num]))"
   ]
  },
  {
   "cell_type": "markdown",
   "metadata": {},
   "source": [
    "Let's make sure our class_mapping works"
   ]
  },
  {
   "cell_type": "code",
   "execution_count": 20,
   "metadata": {},
   "outputs": [
    {
     "data": {
      "text/plain": [
       "'r'"
      ]
     },
     "execution_count": 20,
     "metadata": {},
     "output_type": "execute_result"
    }
   ],
   "source": [
    "class_mapping[45]"
   ]
  },
  {
   "cell_type": "markdown",
   "metadata": {},
   "source": [
    "Let's see the shape of all of the data, to see what we are working with"
   ]
  },
  {
   "cell_type": "code",
   "execution_count": 21,
   "metadata": {
    "scrolled": true
   },
   "outputs": [
    {
     "name": "stdout",
     "output_type": "stream",
     "text": [
      "(112800, 785) (18800, 785) (47,)\n"
     ]
    }
   ],
   "source": [
    "print(train.shape, test.shape, mapp.shape)"
   ]
  },
  {
   "cell_type": "markdown",
   "metadata": {},
   "source": [
    "Create a variable, `class_num`, to store the number of classifications our model will predict. This will be the number of output layer neurons for the model."
   ]
  },
  {
   "cell_type": "code",
   "execution_count": 22,
   "metadata": {},
   "outputs": [
    {
     "data": {
      "text/plain": [
       "47"
      ]
     },
     "execution_count": 22,
     "metadata": {},
     "output_type": "execute_result"
    }
   ],
   "source": [
    "class_num = len(class_mapping)\n",
    "class_num"
   ]
  },
  {
   "cell_type": "markdown",
   "metadata": {},
   "source": [
    "### 2. Create the training and test dataset\n",
    "\n",
    "Now that our `train`, `test`, and `map` variables are all set up, let's check out the images inside before we create the datasets.\n",
    "\n",
    "### Test a singular image\n",
    "\n",
    "How an image from the EMNIST dataset will be displayed:\n",
    "1. An arbitrary image from the `train` dataset is chosen: image number `8`\n",
    "    * This arbitrary image number is stored inside `test_row_num`\n",
    "2. The character associated with every image is found in the first column (the class)\n",
    "3. The pixel data is located in the remaining colums (784 columns for a 28x28 image)\n",
    "    * The pixel data is stored inside `test_row_num_img`\n",
    "4. The data must be reshaped into a `28x28` image (per EMNIST)\n",
    "    * Shape before: `(784,)`\n",
    "    * Shape after: `(28,28)`"
   ]
  },
  {
   "cell_type": "code",
   "execution_count": 23,
   "metadata": {},
   "outputs": [],
   "source": [
    "test_row_num = 8\n",
    "test_row_num_img = train.values[test_row_num, 1:]\n",
    "HEIGHT = 28\n",
    "WIDTH = 28\n",
    "\n",
    "reshape_img = test_row_num_img.reshape(HEIGHT,WIDTH)"
   ]
  },
  {
   "cell_type": "markdown",
   "metadata": {},
   "source": [
    "### Take a look at the singular image\n",
    "\n",
    "Plot the image using `matplotlib` and see how it all looks."
   ]
  },
  {
   "cell_type": "code",
   "execution_count": 24,
   "metadata": {},
   "outputs": [
    {
     "data": {
      "image/png": "[encoded data removed]",
      "text/plain": [
       "<Figure size 432x288 with 1 Axes>"
      ]
     },
     "metadata": {
      "needs_background": "light"
     },
     "output_type": "display_data"
    }
   ],
   "source": [
    "test_char = class_mapping[train.values[test_row_num,0]]\n",
    "\n",
    "plt.imshow(reshape_img, cmap=plt.cm.binary)\n",
    "plt.title(\"This image is: {}\".format(test_char))\n",
    "plt.show()"
   ]
  },
  {
   "cell_type": "markdown",
   "metadata": {},
   "source": [
    "### Result\n",
    "\n",
    "Everything is correct, but the image is flipped!"
   ]
  },
  {
   "cell_type": "markdown",
   "metadata": {},
   "source": [
    "### Flip the image into its correct position\n",
    "\n",
    "Transpose the image using `numpy`\n",
    " * Provide `np.transpose` the image, `reshape_img`, and `axes=[1,0]` to rotate the image clockwise by 90 degrees"
   ]
  },
  {
   "cell_type": "code",
   "execution_count": 25,
   "metadata": {
    "scrolled": true
   },
   "outputs": [
    {
     "data": {
      "image/png": "[encoded data removed]",
      "text/plain": [
       "<Figure size 432x288 with 1 Axes>"
      ]
     },
     "metadata": {
      "needs_background": "light"
     },
     "output_type": "display_data"
    }
   ],
   "source": [
    "img_flip = np.transpose(reshape_img, axes=[1,0])\n",
    "plt.imshow(img_flip, cmap=plt.cm.binary)\n",
    "plt.title(\"This image is: {}\".format(test_char))\n",
    "plt.show()"
   ]
  },
  {
   "cell_type": "markdown",
   "metadata": {},
   "source": [
    "### Result\n",
    "\n",
    "The data is structures appropriately. We will perform these operations on every single image."
   ]
  },
  {
   "cell_type": "markdown",
   "metadata": {},
   "source": [
    "## Creating the dataset\n",
    "\n",
    "Operations needed for each training and testing image:\n",
    "\n",
    "1. Reshape the data into (28,28) shapes\n",
    "\n",
    "2. Rotate the data 90 degrees clockwise"
   ]
  },
  {
   "cell_type": "markdown",
   "metadata": {},
   "source": [
    "### Functions to Asssist Us\n",
    "\n",
    "1. A function that will convert the data into proper images for our dataset, `convert_training_data`\n",
    "\n",
    "2. A function that will give us the correct image character, `get_char`\n"
   ]
  },
  {
   "cell_type": "code",
   "execution_count": 26,
   "metadata": {},
   "outputs": [],
   "source": [
    "def convert_training_data(df,row):\n",
    "    pxl_data = df.values[row,1:]\n",
    "    # Reshape the image coming in\n",
    "    pxl_reshape = pxl_data.reshape(HEIGHT,WIDTH)\n",
    "    # Rotate the image\n",
    "    final_img = np.transpose(pxl_reshape, axes=[1,0])\n",
    "    return final_img\n",
    "\n",
    "def get_char(df, row):\n",
    "    return class_mapping[df.values[row,0]]"
   ]
  },
  {
   "cell_type": "markdown",
   "metadata": {},
   "source": [
    "### Test the Functions\n",
    "\n",
    "Make sure that these functions work"
   ]
  },
  {
   "cell_type": "code",
   "execution_count": 27,
   "metadata": {},
   "outputs": [
    {
     "data": {
      "image/png": "[encoded data removed]",
      "text/plain": [
       "<Figure size 432x288 with 1 Axes>"
      ]
     },
     "metadata": {
      "needs_background": "light"
     },
     "output_type": "display_data"
    }
   ],
   "source": [
    "# Test out the function\n",
    "\n",
    "test_row = 32\n",
    "\n",
    "test_row_img_data = convert_training_data(train, test_row)\n",
    "test_char = get_char(train, test_row)\n",
    "\n",
    "plt.imshow(test_row_img_data, cmap=plt.cm.binary)\n",
    "plt.title(\"This image is: {}\".format(test_char))\n",
    "plt.show()"
   ]
  },
  {
   "cell_type": "markdown",
   "metadata": {},
   "source": [
    "## Build the Datasets to Create Our Model\n",
    "\n",
    "Every image inside the `train` and `test` is converted into a correctly-oriented `(28,28)` shape and stored inside its respective array variable. When complete, pixel data is normalized (scaled) so that pixel values range from 0 to 1 instead of 0 to 255. This normalization helps make it easier for the neural network to learn."
   ]
  },
  {
   "cell_type": "code",
   "execution_count": 28,
   "metadata": {},
   "outputs": [],
   "source": [
    "# Iterate through \"train\" and build our dataset\n",
    "\n",
    "train_x = []\n",
    "test_x = []\n",
    "\n",
    "for i in range(len(train)):\n",
    "    train_x.append(convert_training_data(train,i))\n",
    "\n",
    "for i in range(len(test)):\n",
    "    test_x.append(convert_training_data(test,i))\n",
    "\n",
    "train_x = np.asarray(train_x)\n",
    "test_x = np.asarray(test_x)\n",
    "\n",
    "# normalize the data\n",
    "\n",
    "train_x = train_x.astype('float32')\n",
    "train_x /= 255\n",
    "test_x = test_x.astype('float32')\n",
    "test_x /= 255"
   ]
  },
  {
   "cell_type": "markdown",
   "metadata": {},
   "source": [
    "Let's check the shape of these arrays"
   ]
  },
  {
   "cell_type": "code",
   "execution_count": 29,
   "metadata": {},
   "outputs": [
    {
     "name": "stdout",
     "output_type": "stream",
     "text": [
      "(112800, 28, 28) (18800, 28, 28)\n"
     ]
    }
   ],
   "source": [
    "print(train_x.shape, test_x.shape)"
   ]
  },
  {
   "cell_type": "markdown",
   "metadata": {},
   "source": [
    "## Create the \"answers\" to the train and test data\n",
    "\n",
    "The arrays `train_y` and `test_y` will hold the answers to `train_x` and `test_x` respectively. The \"answers\" or \"classes\" to this data is found in the 1st column of the `train` and `test` dataframes.\n",
    "\n",
    "Take note that `train_y` and `test_y` do not have a 2nd dimension in its tuple - we will address this later."
   ]
  },
  {
   "cell_type": "code",
   "execution_count": 30,
   "metadata": {},
   "outputs": [],
   "source": [
    "train_y = train.iloc[:,0]\n",
    "test_y = test.iloc[:,0]"
   ]
  },
  {
   "cell_type": "code",
   "execution_count": 31,
   "metadata": {},
   "outputs": [
    {
     "name": "stdout",
     "output_type": "stream",
     "text": [
      "train_y:  (112800,)\n",
      "test_y:  (18800,)\n"
     ]
    }
   ],
   "source": [
    "print(\"train_y: \", train_y.shape)\n",
    "print(\"test_y: \", test_y.shape)"
   ]
  },
  {
   "cell_type": "markdown",
   "metadata": {},
   "source": [
    "## Plot a few Train and Test images and their answers\n",
    "\n",
    "Make sure that the images have correct solutions attached to them."
   ]
  },
  {
   "cell_type": "code",
   "execution_count": 32,
   "metadata": {
    "scrolled": false
   },
   "outputs": [
    {
     "data": {
      "image/png": "[encoded data removed]",
      "text/plain": [
       "<Figure size 576x576 with 16 Axes>"
      ]
     },
     "metadata": {
      "needs_background": "light"
     },
     "output_type": "display_data"
    }
   ],
   "source": [
    "# Plot 4 columns and 4 rows for a subplot\n",
    "plt_cols = 4\n",
    "plt_rows = 4\n",
    "\n",
    "# Start at image #100 of our train_x dataset\n",
    "row_to_start = 100\n",
    "\n",
    "# Create a figure, where each figure has a size (8,8)\n",
    "fig=plt.figure(figsize=(8, 8))\n",
    "\n",
    "# iterate between row_to_start to the amount of rows and cols we have created\n",
    "for i in range(row_to_start, row_to_start + plt_cols*plt_rows):\n",
    "    # each plot will initate the same rows and cols, for the 3rd param we will iterate from 1 to (rows * cols)\n",
    "    fig.add_subplot(plt_rows, plt_cols, i - row_to_start + 1)\n",
    "    fig.tight_layout()\n",
    "    #image to show is the x_train\n",
    "    plt.imshow(train_x[i], cmap=plt.get_cmap('gray'))\n",
    "    plt.title(class_mapping[train_y[i]])\n",
    "plt.show()"
   ]
  },
  {
   "cell_type": "code",
   "execution_count": 33,
   "metadata": {},
   "outputs": [
    {
     "data": {
      "image/png": "[encoded data removed]",
      "text/plain": [
       "<Figure size 576x576 with 16 Axes>"
      ]
     },
     "metadata": {
      "needs_background": "light"
     },
     "output_type": "display_data"
    }
   ],
   "source": [
    "# Plot 4 columns and 4 rows for a subplot\n",
    "plt_cols = 4\n",
    "plt_rows = 4\n",
    "\n",
    "# Start at image #100 of our train_x dataset\n",
    "row_to_start = 100\n",
    "\n",
    "# Create a figure, where each figure has a size (8,8)\n",
    "fig=plt.figure(figsize=(8, 8))\n",
    "\n",
    "# iterate between row_to_start to the amount of rows and cols we have created\n",
    "for i in range(row_to_start, row_to_start + plt_cols*plt_rows):\n",
    "    # each plot will initate the same rows and cols, for the 3rd param we will iterate from 1 to (rows * cols)\n",
    "    fig.add_subplot(plt_rows, plt_cols, i - row_to_start + 1)\n",
    "    fig.tight_layout()\n",
    "    #image to show is the x_train\n",
    "    plt.imshow(test_x[i], cmap=plt.get_cmap('gray'))\n",
    "    plt.title(class_mapping[test_y[i]])\n",
    "plt.show()"
   ]
  },
  {
   "cell_type": "markdown",
   "metadata": {},
   "source": [
    "### Result\n",
    "\n",
    "Both `train_x` and `train_y`, as well as `test_x` and `test_y`, are appropriately matched."
   ]
  },
  {
   "cell_type": "markdown",
   "metadata": {},
   "source": [
    "## 3. Prepare these datasets for the ML algorithm\n",
    "\n",
    "We will provide [One Hot Encoding](https://hackernoon.com/what-is-one-hot-encoding-why-and-when-do-you-have-to-use-it-e3c6186d008f) to the ML algorithm so that the neural network does a better job in prediction. The shape of the `train_y` and `test_y` become `(112800, 47)`."
   ]
  },
  {
   "cell_type": "code",
   "execution_count": 34,
   "metadata": {
    "scrolled": true
   },
   "outputs": [
    {
     "name": "stdout",
     "output_type": "stream",
     "text": [
      "train_y:  (112800, 47)\n",
      "test_y:  (18800, 47)\n"
     ]
    }
   ],
   "source": [
    "train_y = utils.to_categorical(train_y, class_num)\n",
    "test_y = utils.to_categorical(test_y, class_num)\n",
    "print(\"train_y: \", train_y.shape)\n",
    "print(\"test_y: \", test_y.shape)"
   ]
  },
  {
   "cell_type": "markdown",
   "metadata": {},
   "source": [
    "The neural network expects 4 dimensions for `train_x` and `test_x`. We will also reshape these arrays accordingly"
   ]
  },
  {
   "cell_type": "code",
   "execution_count": 35,
   "metadata": {
    "scrolled": true
   },
   "outputs": [],
   "source": [
    "train_x = train_x.reshape(-1, HEIGHT, WIDTH, 1)\n",
    "test_x = test_x.reshape(-1, HEIGHT, WIDTH, 1)"
   ]
  },
  {
   "cell_type": "code",
   "execution_count": 36,
   "metadata": {},
   "outputs": [
    {
     "data": {
      "text/plain": [
       "(112800, 28, 28, 1)"
      ]
     },
     "execution_count": 36,
     "metadata": {},
     "output_type": "execute_result"
    }
   ],
   "source": [
    "train_x.shape"
   ]
  },
  {
   "cell_type": "markdown",
   "metadata": {},
   "source": [
    "## Save your data\n",
    "\n",
    "If you wish to perform the above locally, it is highly recommended that at this point you save your data, so that you don't have to \"get the data\" every single time.\n",
    "\n",
    "`import pickle`\n",
    "\n",
    "Load the data into pickle\n",
    "\n",
    "```\n",
    "pickle_out = open(\"train_x.pickle\", \"wb\")\n",
    "pickle.dump(train_x, pickle_out)\n",
    "pickle_out.close()\n",
    "\n",
    "pickle_out = open(\"test_x.pickle\", \"wb\")\n",
    "pickle.dump(test_x, pickle_out)\n",
    "pickle_out.close()\n",
    "\n",
    "pickle_out = open(\"train_y.pickle\", \"wb\")\n",
    "pickle.dump(train_y, pickle_out)\n",
    "pickle_out.close()\n",
    "\n",
    "pickle_out = open(\"test_y.pickle\", \"wb\")\n",
    "pickle.dump(test_y, pickle_out)\n",
    "pickle_out.close()\n",
    "```\n",
    "\n"
   ]
  },
  {
   "cell_type": "markdown",
   "metadata": {},
   "source": [
    "## Creating The Model\n",
    "\n",
    "The data is now successfully \"wrangled\" and ready to be used for the ML model.\n",
    "\n",
    "At this point, we will not be running any code inside this Jupyter Notebook. It is more appropriate to perform the following operations inside an IDE.\n",
    "\n",
    "## 4. Generate multiple permutations of models\n",
    "\n",
    "Models\n",
    "\n",
    "tensorboard --logdir='logs/' "
   ]
  },
  {
   "cell_type": "code",
   "execution_count": 37,
   "metadata": {
    "scrolled": true
   },
   "outputs": [
    {
     "name": "stdout",
     "output_type": "stream",
     "text": [
      "The tensorboard extension is already loaded. To reload it, use:\n",
      "  %reload_ext tensorboard\n"
     ]
    },
    {
     "data": {
      "text/plain": [
       "Reusing TensorBoard on port 6006 (pid 664), started 1:33:09 ago. (Use '!kill 664' to kill it.)"
      ]
     },
     "metadata": {},
     "output_type": "display_data"
    },
    {
     "data": {
      "text/html": [
       "\n",
       "      <iframe id=\"tensorboard-frame-ba19b70e3e31e411\" width=\"100%\" height=\"800\" frameborder=\"0\">\n",
       "      </iframe>\n",
       "      <script>\n",
       "        (function() {\n",
       "          const frame = document.getElementById(\"tensorboard-frame-ba19b70e3e31e411\");\n",
       "          const url = new URL(\"/\", window.location);\n",
       "          url.port = 6006;\n",
       "          frame.src = url;\n",
       "        })();\n",
       "      </script>\n",
       "  "
      ],
      "text/plain": [
       "<IPython.core.display.HTML object>"
      ]
     },
     "metadata": {},
     "output_type": "display_data"
    }
   ],
   "source": [
    "# Load TENSORBOARD\n",
    "%load_ext tensorboard\n",
    "\n",
    "# Reload TENSORBOARD\n",
    "# %reload_ext tensorboard\n",
    "\n",
    "logdir = \"logs/\"\n",
    "# Start TENSORBOARD\n",
    "%tensorboard --logdir logs/"
   ]
  },
  {
   "cell_type": "markdown",
   "metadata": {},
   "source": [
    "## Pictures\n",
    "\n",
    "Pictures from tensorboard - all graphs"
   ]
  },
  {
   "cell_type": "code",
   "execution_count": 38,
   "metadata": {},
   "outputs": [
    {
     "data": {
      "text/html": [
       "<img src=\"tensorboard-images/first-run-acc.png\"/>"
      ],
      "text/plain": [
       "<IPython.core.display.Image object>"
      ]
     },
     "execution_count": 38,
     "metadata": {},
     "output_type": "execute_result"
    }
   ],
   "source": [
    "from IPython.display import Image\n",
    "from IPython.core.display import HTML \n",
    "Image(url= \"tensorboard-images/first-run-acc.png\")"
   ]
  },
  {
   "cell_type": "code",
   "execution_count": 39,
   "metadata": {},
   "outputs": [
    {
     "data": {
      "text/html": [
       "<img src=\"tensorboard-images/first-run-loss.png\"/>"
      ],
      "text/plain": [
       "<IPython.core.display.Image object>"
      ]
     },
     "execution_count": 39,
     "metadata": {},
     "output_type": "execute_result"
    }
   ],
   "source": [
    "Image(url= \"tensorboard-images/first-run-loss.png\")"
   ]
  },
  {
   "cell_type": "markdown",
   "metadata": {},
   "source": [
    "## FIRST RUN - GOOD GRAPHS"
   ]
  },
  {
   "cell_type": "code",
   "execution_count": 40,
   "metadata": {},
   "outputs": [
    {
     "data": {
      "text/html": [
       "<img src=\"tensorboard-images/first-run-good-acc.png\"/>"
      ],
      "text/plain": [
       "<IPython.core.display.Image object>"
      ]
     },
     "execution_count": 40,
     "metadata": {},
     "output_type": "execute_result"
    }
   ],
   "source": [
    "Image(url= \"tensorboard-images/first-run-good-acc.png\")"
   ]
  },
  {
   "cell_type": "code",
   "execution_count": 41,
   "metadata": {},
   "outputs": [
    {
     "data": {
      "text/html": [
       "<img src=\"tensorboard-images/first-run-good-loss.png\"/>"
      ],
      "text/plain": [
       "<IPython.core.display.Image object>"
      ]
     },
     "execution_count": 41,
     "metadata": {},
     "output_type": "execute_result"
    }
   ],
   "source": [
    "Image(url= \"tensorboard-images/first-run-good-loss.png\")"
   ]
  },
  {
   "cell_type": "markdown",
   "metadata": {},
   "source": [
    "## FIRST RUN - BAD GRAPHS"
   ]
  },
  {
   "cell_type": "code",
   "execution_count": 47,
   "metadata": {},
   "outputs": [
    {
     "data": {
      "text/html": [
       "<img src=\"tensorboard-images/first-run-bad-acc.png\"/>"
      ],
      "text/plain": [
       "<IPython.core.display.Image object>"
      ]
     },
     "execution_count": 47,
     "metadata": {},
     "output_type": "execute_result"
    }
   ],
   "source": [
    "Image(url= \"tensorboard-images/first-run-bad-acc.png\")"
   ]
  },
  {
   "cell_type": "code",
   "execution_count": 43,
   "metadata": {},
   "outputs": [
    {
     "data": {
      "text/html": [
       "<img src=\"tensorboard-images/first-run-bad-loss.png\"/>"
      ],
      "text/plain": [
       "<IPython.core.display.Image object>"
      ]
     },
     "execution_count": 43,
     "metadata": {},
     "output_type": "execute_result"
    }
   ],
   "source": [
    "Image(url= \"tensorboard-images/first-run-bad-loss.png\")"
   ]
  },
  {
   "cell_type": "markdown",
   "metadata": {},
   "source": [
    "## Result\n",
    "\n",
    "2 Conv is clearly victorious\n",
    "\n",
    "1 and 3 conv are not as much\n",
    "\n",
    "Number of dense layers and nodes do not seem to play much of a role\n",
    "\n",
    "## Second run - testing out dropout\n",
    "\n",
    "We will now test out dropout"
   ]
  },
  {
   "cell_type": "code",
   "execution_count": 48,
   "metadata": {},
   "outputs": [
    {
     "data": {
      "text/html": [
       "<img src=\"tensorboard-images/second-run-acc.png\"/>"
      ],
      "text/plain": [
       "<IPython.core.display.Image object>"
      ]
     },
     "execution_count": 48,
     "metadata": {},
     "output_type": "execute_result"
    }
   ],
   "source": [
    "Image(url= \"tensorboard-images/second-run-acc.png\")"
   ]
  },
  {
   "cell_type": "code",
   "execution_count": 49,
   "metadata": {},
   "outputs": [
    {
     "data": {
      "text/html": [
       "<img src=\"tensorboard-images/second-run-loss.png\"/>"
      ],
      "text/plain": [
       "<IPython.core.display.Image object>"
      ]
     },
     "execution_count": 49,
     "metadata": {},
     "output_type": "execute_result"
    }
   ],
   "source": [
    "Image(url= \"tensorboard-images/second-run-loss.png\")"
   ]
  },
  {
   "cell_type": "markdown",
   "metadata": {},
   "source": [
    "## Result\n",
    "\n",
    "The top 4 highest accuracies and lowest losses are dropout \n",
    "\n",
    "We can say that dropout is the winner\n",
    "\n",
    "## Third run - trying 256 nodes\n",
    "\n",
    "We will now test 256 nodes with dropout"
   ]
  },
  {
   "cell_type": "code",
   "execution_count": 53,
   "metadata": {},
   "outputs": [
    {
     "data": {
      "text/html": [
       "<img src=\"tensorboard-images/third-run-acc.png\"/>"
      ],
      "text/plain": [
       "<IPython.core.display.Image object>"
      ]
     },
     "execution_count": 53,
     "metadata": {},
     "output_type": "execute_result"
    }
   ],
   "source": [
    "Image(url= \"tensorboard-images/third-run-acc.png\")"
   ]
  },
  {
   "cell_type": "code",
   "execution_count": 51,
   "metadata": {
    "scrolled": true
   },
   "outputs": [
    {
     "data": {
      "text/html": [
       "<img src=\"tensorboard-images/third-run-loss.png\"/>"
      ],
      "text/plain": [
       "<IPython.core.display.Image object>"
      ]
     },
     "execution_count": 51,
     "metadata": {},
     "output_type": "execute_result"
    }
   ],
   "source": [
    "Image(url= \"tensorboard-images/third-run-loss.png\")"
   ]
  },
  {
   "cell_type": "markdown",
   "metadata": {},
   "source": [
    "## Result\n",
    "\n",
    "It does not seem like there was much of a difference between 256 nodes and 128 nodes\n",
    "\n",
    "## What model to pick\n",
    "\n",
    "I am more in favor of \"loss\" than \"accuracy\"\n",
    "\n",
    "So the model I will go with: 2 conv layers, 1 dense layer, 256 nodes per layer with a 0.2 droput"
   ]
  }
 ],
 "metadata": {
  "kernelspec": {
   "display_name": "Python 3",
   "language": "python",
   "name": "python3"
  },
  "language_info": {
   "codemirror_mode": {
    "name": "ipython",
    "version": 3
   },
   "file_extension": ".py",
   "mimetype": "text/x-python",
   "name": "python",
   "nbconvert_exporter": "python",
   "pygments_lexer": "ipython3",
   "version": "3.6.8"
  }
 },
 "nbformat": 4,
 "nbformat_minor": 2
}
